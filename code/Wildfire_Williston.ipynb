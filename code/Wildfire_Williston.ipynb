{
  "nbformat": 4,
  "nbformat_minor": 0,
  "metadata": {
    "colab": {
      "provenance": []
    },
    "kernelspec": {
      "name": "python3",
      "display_name": "Python 3"
    },
    "language_info": {
      "name": "python"
    }
  },
  "cells": [
    {
      "cell_type": "code",
      "execution_count": 1,
      "metadata": {
        "colab": {
          "base_uri": "https://localhost:8080/"
        },
        "id": "f1TMr_rjNziQ",
        "outputId": "508ff8a7-cc79-4dba-a376-bb6b9a83440b"
      },
      "outputs": [
        {
          "output_type": "stream",
          "name": "stdout",
          "text": [
            "Mounted at /content/drive\n"
          ]
        }
      ],
      "source": [
        "from google.colab import drive\n",
        "drive.mount('/content/drive')"
      ]
    },
    {
      "cell_type": "code",
      "source": [],
      "metadata": {
        "id": "fwSVp5SdTHMg"
      },
      "execution_count": 8,
      "outputs": []
    },
    {
      "cell_type": "code",
      "source": [
        "SAMPLE_DATA_FILENAME = '/content/drive/MyDrive/USGS_Wildland_Fire_Combined_Dataset.json'"
      ],
      "metadata": {
        "id": "RJQyMcIPN1SL"
      },
      "execution_count": 3,
      "outputs": []
    },
    {
      "cell_type": "code",
      "source": [
        "#\n",
        "#    IMPORTS\n",
        "#\n",
        "\n",
        "#    Import some standard python modules\n",
        "import os, json, time\n",
        "#\n",
        "#    The module pyproj is a standard module that can be installed using pip or your other favorite\n",
        "#    installation tool. This module provides tools to convert between different geodesic coordinate systems\n",
        "#    and for calculating distances between points (coordinates) in a specific geodesic system.\n",
        "#\n",
        "from pyproj import Transformer, Geod\n",
        "#\n",
        "#    The 'wildfire' module is a user module. This module is available from the course website. The module\n",
        "#    includes one object, a Reader, that can be used to read the GeoJSON files associated with the\n",
        "#    wildefire dataset. The module also contains a sample datafile that is GeoJSON compliant and that\n",
        "#    contains a small number of California wildfires extracted from the main wildfire dataset.\n",
        "#\n",
        "\n",
        "from Reader import Reader as WFReader"
      ],
      "metadata": {
        "id": "xUoQn0O7OYDK"
      },
      "execution_count": 9,
      "outputs": []
    },
    {
      "cell_type": "code",
      "source": [
        "#\n",
        "#    This bit of code opens a new wildfire reader, gets the header information and prints it to the screen\n",
        "#\n",
        "print(f\"Attempting to open '{SAMPLE_DATA_FILENAME}' with wildfire.Reader() object\")\n",
        "wfreader = WFReader(SAMPLE_DATA_FILENAME)\n",
        "print()\n",
        "#\n",
        "#    Now print the header - it contains some useful information\n",
        "#\n",
        "header_dict = wfreader.header()\n",
        "header_keys = list(header_dict.keys())\n",
        "print(\"The header has the following keys:\")\n",
        "print(header_keys)\n",
        "print()\n",
        "print(\"Header Dictionary\")\n",
        "print(json.dumps(header_dict,indent=4))"
      ],
      "metadata": {
        "colab": {
          "base_uri": "https://localhost:8080/"
        },
        "id": "1BYUwQg0ORBt",
        "outputId": "094166f8-3e99-441e-951c-abc7393e5308"
      },
      "execution_count": 10,
      "outputs": [
        {
          "output_type": "stream",
          "name": "stdout",
          "text": [
            "Attempting to open '/content/drive/MyDrive/USGS_Wildland_Fire_Combined_Dataset.json' with wildfire.Reader() object\n",
            "\n",
            "The header has the following keys:\n",
            "['displayFieldName', 'fieldAliases', 'geometryType', 'spatialReference', 'fields']\n",
            "\n",
            "Header Dictionary\n",
            "{\n",
            "    \"displayFieldName\": \"\",\n",
            "    \"fieldAliases\": {\n",
            "        \"OBJECTID\": \"OBJECTID\",\n",
            "        \"USGS_Assigned_ID\": \"USGS Assigned ID\",\n",
            "        \"Assigned_Fire_Type\": \"Assigned Fire Type\",\n",
            "        \"Fire_Year\": \"Fire Year\",\n",
            "        \"Fire_Polygon_Tier\": \"Fire Polygon Tier\",\n",
            "        \"Fire_Attribute_Tiers\": \"Fire Attribute Tiers\",\n",
            "        \"GIS_Acres\": \"GIS_Acres\",\n",
            "        \"GIS_Hectares\": \"GIS_Hectares\",\n",
            "        \"Source_Datasets\": \"Source Datasets\",\n",
            "        \"Listed_Fire_Types\": \"Listed Fire Types\",\n",
            "        \"Listed_Fire_Names\": \"Listed Fire Names\",\n",
            "        \"Listed_Fire_Codes\": \"Listed Fire Codes\",\n",
            "        \"Listed_Fire_IDs\": \"Listed Fire IDs\",\n",
            "        \"Listed_Fire_IRWIN_IDs\": \"Listed Fire IRWIN IDs\",\n",
            "        \"Listed_Fire_Dates\": \"Listed Fire Dates\",\n",
            "        \"Listed_Fire_Causes\": \"Listed Fire Causes\",\n",
            "        \"Listed_Fire_Cause_Class\": \"Listed Fire Cause Class\",\n",
            "        \"Listed_Rx_Reported_Acres\": \"Listed Rx Reported Acres\",\n",
            "        \"Listed_Map_Digitize_Methods\": \"Listed Map Digitize Methods\",\n",
            "        \"Listed_Notes\": \"Listed Notes\",\n",
            "        \"Processing_Notes\": \"Processing Notes\",\n",
            "        \"Wildfire_Notice\": \"Wildfire Notice\",\n",
            "        \"Prescribed_Burn_Notice\": \"Prescribed Burn Notice\",\n",
            "        \"Wildfire_and_Rx_Flag\": \"Wildfire and Rx Flag\",\n",
            "        \"Overlap_Within_1_or_2_Flag\": \"Overlap Within 1 or 2 Years Flag\",\n",
            "        \"Circleness_Scale\": \"Circleness Scale\",\n",
            "        \"Circle_Flag\": \"Circle Flag\",\n",
            "        \"Exclude_From_Summary_Rasters\": \"Exclude From Summary Rasters\",\n",
            "        \"Shape_Length\": \"Shape_Length\",\n",
            "        \"Shape_Area\": \"Shape_Area\"\n",
            "    },\n",
            "    \"geometryType\": \"esriGeometryPolygon\",\n",
            "    \"spatialReference\": {\n",
            "        \"wkid\": 102008,\n",
            "        \"latestWkid\": 102008\n",
            "    },\n",
            "    \"fields\": [\n",
            "        {\n",
            "            \"name\": \"OBJECTID\",\n",
            "            \"type\": \"esriFieldTypeOID\",\n",
            "            \"alias\": \"OBJECTID\"\n",
            "        },\n",
            "        {\n",
            "            \"name\": \"USGS_Assigned_ID\",\n",
            "            \"type\": \"esriFieldTypeInteger\",\n",
            "            \"alias\": \"USGS Assigned ID\"\n",
            "        },\n",
            "        {\n",
            "            \"name\": \"Assigned_Fire_Type\",\n",
            "            \"type\": \"esriFieldTypeString\",\n",
            "            \"alias\": \"Assigned Fire Type\",\n",
            "            \"length\": 100\n",
            "        },\n",
            "        {\n",
            "            \"name\": \"Fire_Year\",\n",
            "            \"type\": \"esriFieldTypeSmallInteger\",\n",
            "            \"alias\": \"Fire Year\"\n",
            "        },\n",
            "        {\n",
            "            \"name\": \"Fire_Polygon_Tier\",\n",
            "            \"type\": \"esriFieldTypeSmallInteger\",\n",
            "            \"alias\": \"Fire Polygon Tier\"\n",
            "        },\n",
            "        {\n",
            "            \"name\": \"Fire_Attribute_Tiers\",\n",
            "            \"type\": \"esriFieldTypeString\",\n",
            "            \"alias\": \"Fire Attribute Tiers\",\n",
            "            \"length\": 30000\n",
            "        },\n",
            "        {\n",
            "            \"name\": \"GIS_Acres\",\n",
            "            \"type\": \"esriFieldTypeDouble\",\n",
            "            \"alias\": \"GIS_Acres\"\n",
            "        },\n",
            "        {\n",
            "            \"name\": \"GIS_Hectares\",\n",
            "            \"type\": \"esriFieldTypeDouble\",\n",
            "            \"alias\": \"GIS_Hectares\"\n",
            "        },\n",
            "        {\n",
            "            \"name\": \"Source_Datasets\",\n",
            "            \"type\": \"esriFieldTypeString\",\n",
            "            \"alias\": \"Source Datasets\",\n",
            "            \"length\": 500000\n",
            "        },\n",
            "        {\n",
            "            \"name\": \"Listed_Fire_Types\",\n",
            "            \"type\": \"esriFieldTypeString\",\n",
            "            \"alias\": \"Listed Fire Types\",\n",
            "            \"length\": 100000\n",
            "        },\n",
            "        {\n",
            "            \"name\": \"Listed_Fire_Names\",\n",
            "            \"type\": \"esriFieldTypeString\",\n",
            "            \"alias\": \"Listed Fire Names\",\n",
            "            \"length\": 100000\n",
            "        },\n",
            "        {\n",
            "            \"name\": \"Listed_Fire_Codes\",\n",
            "            \"type\": \"esriFieldTypeString\",\n",
            "            \"alias\": \"Listed Fire Codes\",\n",
            "            \"length\": 100000\n",
            "        },\n",
            "        {\n",
            "            \"name\": \"Listed_Fire_IDs\",\n",
            "            \"type\": \"esriFieldTypeString\",\n",
            "            \"alias\": \"Listed Fire IDs\",\n",
            "            \"length\": 30000\n",
            "        },\n",
            "        {\n",
            "            \"name\": \"Listed_Fire_IRWIN_IDs\",\n",
            "            \"type\": \"esriFieldTypeString\",\n",
            "            \"alias\": \"Listed Fire IRWIN IDs\",\n",
            "            \"length\": 30000\n",
            "        },\n",
            "        {\n",
            "            \"name\": \"Listed_Fire_Dates\",\n",
            "            \"type\": \"esriFieldTypeString\",\n",
            "            \"alias\": \"Listed Fire Dates\",\n",
            "            \"length\": 500000\n",
            "        },\n",
            "        {\n",
            "            \"name\": \"Listed_Fire_Causes\",\n",
            "            \"type\": \"esriFieldTypeString\",\n",
            "            \"alias\": \"Listed Fire Causes\",\n",
            "            \"length\": 100000\n",
            "        },\n",
            "        {\n",
            "            \"name\": \"Listed_Fire_Cause_Class\",\n",
            "            \"type\": \"esriFieldTypeString\",\n",
            "            \"alias\": \"Listed Fire Cause Class\",\n",
            "            \"length\": 100000\n",
            "        },\n",
            "        {\n",
            "            \"name\": \"Listed_Rx_Reported_Acres\",\n",
            "            \"type\": \"esriFieldTypeString\",\n",
            "            \"alias\": \"Listed Rx Reported Acres\",\n",
            "            \"length\": 10000\n",
            "        },\n",
            "        {\n",
            "            \"name\": \"Listed_Map_Digitize_Methods\",\n",
            "            \"type\": \"esriFieldTypeString\",\n",
            "            \"alias\": \"Listed Map Digitize Methods\",\n",
            "            \"length\": 100000\n",
            "        },\n",
            "        {\n",
            "            \"name\": \"Listed_Notes\",\n",
            "            \"type\": \"esriFieldTypeString\",\n",
            "            \"alias\": \"Listed Notes\",\n",
            "            \"length\": 30000\n",
            "        },\n",
            "        {\n",
            "            \"name\": \"Processing_Notes\",\n",
            "            \"type\": \"esriFieldTypeString\",\n",
            "            \"alias\": \"Processing Notes\",\n",
            "            \"length\": 30000\n",
            "        },\n",
            "        {\n",
            "            \"name\": \"Wildfire_Notice\",\n",
            "            \"type\": \"esriFieldTypeString\",\n",
            "            \"alias\": \"Wildfire Notice\",\n",
            "            \"length\": 700\n",
            "        },\n",
            "        {\n",
            "            \"name\": \"Prescribed_Burn_Notice\",\n",
            "            \"type\": \"esriFieldTypeString\",\n",
            "            \"alias\": \"Prescribed Burn Notice\",\n",
            "            \"length\": 700\n",
            "        },\n",
            "        {\n",
            "            \"name\": \"Wildfire_and_Rx_Flag\",\n",
            "            \"type\": \"esriFieldTypeString\",\n",
            "            \"alias\": \"Wildfire and Rx Flag\",\n",
            "            \"length\": 1000\n",
            "        },\n",
            "        {\n",
            "            \"name\": \"Overlap_Within_1_or_2_Flag\",\n",
            "            \"type\": \"esriFieldTypeString\",\n",
            "            \"alias\": \"Overlap Within 1 or 2 Years Flag\",\n",
            "            \"length\": 8000\n",
            "        },\n",
            "        {\n",
            "            \"name\": \"Circleness_Scale\",\n",
            "            \"type\": \"esriFieldTypeDouble\",\n",
            "            \"alias\": \"Circleness Scale\"\n",
            "        },\n",
            "        {\n",
            "            \"name\": \"Circle_Flag\",\n",
            "            \"type\": \"esriFieldTypeSmallInteger\",\n",
            "            \"alias\": \"Circle Flag\"\n",
            "        },\n",
            "        {\n",
            "            \"name\": \"Exclude_From_Summary_Rasters\",\n",
            "            \"type\": \"esriFieldTypeString\",\n",
            "            \"alias\": \"Exclude From Summary Rasters\",\n",
            "            \"length\": 3\n",
            "        },\n",
            "        {\n",
            "            \"name\": \"Shape_Length\",\n",
            "            \"type\": \"esriFieldTypeDouble\",\n",
            "            \"alias\": \"Shape_Length\"\n",
            "        },\n",
            "        {\n",
            "            \"name\": \"Shape_Area\",\n",
            "            \"type\": \"esriFieldTypeDouble\",\n",
            "            \"alias\": \"Shape_Area\"\n",
            "        }\n",
            "    ]\n",
            "}\n"
          ]
        }
      ]
    },
    {
      "cell_type": "code",
      "source": [
        "#\n",
        "#    This sample code will load the whole sample file, or a small amount of the complete dataset.\n",
        "#\n",
        "#MAX_FEATURE_LOAD = 100\n",
        "feature_list = list()\n",
        "feature_count = 0\n",
        "# A rewind() on the reader object makes sure we're at the start of the feature list\n",
        "# This way, we can execute this cell multiple times and get the same result\n",
        "wfreader.rewind()\n",
        "# Now, read through each of the features, saving them as dictionaries into a list\n",
        "feature = wfreader.next()\n",
        "while feature:\n",
        "    feature_list.append(feature)\n",
        "    feature_count += 1\n",
        "    # if we're loading a lot of features, print progress\n",
        "    if (feature_count % 10000) == 0:\n",
        "        print(f\"Loaded {feature_count} features\")\n",
        "    # loaded the max we're allowed then break\n",
        "    # if feature_count >= MAX_FEATURE_LOAD:\n",
        "    #     break\n",
        "    feature = wfreader.next()\n",
        "#\n",
        "#    Print the number of items (features) we think we loaded\n",
        "print(f\"Loaded a total of {feature_count} features\")\n",
        "#\n",
        "#    Just a validation check - did all the items we loaded get into the list?\n",
        "print(f\"Variable 'feature_list' contains {len(feature_list)} features\")"
      ],
      "metadata": {
        "colab": {
          "base_uri": "https://localhost:8080/"
        },
        "id": "OY8aQ-U8OXBB",
        "outputId": "1c48d99e-4491-4214-be27-5f824a6e5e2f"
      },
      "execution_count": 11,
      "outputs": [
        {
          "output_type": "stream",
          "name": "stdout",
          "text": [
            "Loaded 10000 features\n",
            "Loaded 20000 features\n",
            "Loaded 30000 features\n",
            "Loaded 40000 features\n",
            "Loaded 50000 features\n",
            "Loaded 60000 features\n",
            "Loaded 70000 features\n",
            "Loaded 80000 features\n",
            "Loaded 90000 features\n",
            "Loaded 100000 features\n",
            "Loaded 110000 features\n",
            "Loaded 120000 features\n",
            "Loaded 130000 features\n",
            "Loaded a total of 135061 features\n",
            "Variable 'feature_list' contains 135061 features\n"
          ]
        }
      ]
    },
    {
      "cell_type": "code",
      "source": [
        "SLOT = 0\n",
        "wf_feature = feature_list[SLOT]\n",
        "\n",
        "wf_geometry = wf_feature['geometry']\n",
        "# The largest shape (ring) is supposed to be item zero in the list of 'rings'\n",
        "wf_bigest_ring = wf_geometry['rings'][0]\n",
        "\n",
        "print(f\"The largest ring of wf_feature['features'][{SLOT}]['rings'] consists of {len(wf_bigest_ring)} points.\")"
      ],
      "metadata": {
        "colab": {
          "base_uri": "https://localhost:8080/"
        },
        "id": "h3OUZsi7XdRF",
        "outputId": "ccac0873-db48-4037-ec75-49deb165d188"
      },
      "execution_count": 16,
      "outputs": [
        {
          "output_type": "stream",
          "name": "stdout",
          "text": [
            "The largest ring of wf_feature['features'][0]['rings'] consists of 768 points.\n"
          ]
        }
      ]
    },
    {
      "cell_type": "code",
      "source": [
        "#\n",
        "#    Transform feature geometry data\n",
        "#\n",
        "#    The function takes one parameter, a list of ESRI:102008 coordinates that will be transformed to EPSG:4326\n",
        "#    The function returns a list of coordinates in EPSG:4326\n",
        "def convert_ring_to_epsg4326(ring_data=None):\n",
        "    converted_ring = list()\n",
        "    #\n",
        "    # We use a pyproj transformer that converts from ESRI:102008 to EPSG:4326 to transform the list of coordinates\n",
        "    to_epsg4326 = Transformer.from_crs(\"ESRI:102008\",\"EPSG:4326\")\n",
        "    # We'll run through the list transforming each ESRI:102008 x,y coordinate into a decimal degree lat,lon\n",
        "    for coord in ring_data:\n",
        "        lat,lon = to_epsg4326.transform(coord[0],coord[1])\n",
        "        new_coord = lat,lon\n",
        "        converted_ring.append(new_coord)\n",
        "    return converted_ring"
      ],
      "metadata": {
        "id": "XBmADIgWWTRq"
      },
      "execution_count": 14,
      "outputs": []
    },
    {
      "cell_type": "code",
      "source": [
        "\n",
        "#\n",
        "#   Convert one ring from the default to EPSG\n",
        "#\n",
        "#   There are two options here - depending upon whether you loaded data useing GeoJSON or the wildfire.Reader\n",
        "#\n",
        "#ring_in_epsg4326 = convert_ring_to_epsg4326(gj_bigest_ring)\n",
        "#\n",
        "ring_in_epsg4326 = convert_ring_to_epsg4326(wf_bigest_ring)\n",
        "#\n",
        "print(f\"Ring consists of {len(ring_in_epsg4326)} points.\")\n",
        "#\n",
        "#    If you want to print them out you can see what they look like converted.\n",
        "#print(ring_in_epsg4326)\n",
        "#for point in ring_in_epsg4326:\n",
        "#    print(f\"{point[0]},{point[1]}\")"
      ],
      "metadata": {
        "colab": {
          "base_uri": "https://localhost:8080/"
        },
        "id": "v0x-Q7DNXSmF",
        "outputId": "1d1d2d3e-7cec-4473-ad56-6fe16776dad6"
      },
      "execution_count": 17,
      "outputs": [
        {
          "output_type": "stream",
          "name": "stdout",
          "text": [
            "Ring consists of 768 points.\n"
          ]
        }
      ]
    },
    {
      "cell_type": "code",
      "source": [
        "CITY_LOCATIONS = {\n",
        "    'Williston' :     {'city'   : 'Williston',\n",
        "                       'latlon' : [48.1470, -103.6180] }\n",
        "}"
      ],
      "metadata": {
        "id": "ZavJsqUdTWPd"
      },
      "execution_count": 23,
      "outputs": []
    },
    {
      "cell_type": "code",
      "source": [
        "#\n",
        "#    The function takes two parameters\n",
        "#        A place - which is coordinate point (list or tuple with two items, (lat,lon) in decimal degrees EPSG:4326\n",
        "#        Ring_data - a list of decimal degree coordinates for the fire boundary\n",
        "#\n",
        "#    The function returns a list containing the shortest distance to the perimeter and the point where that is\n",
        "#\n",
        "def shortest_distance_from_place_to_fire_perimeter(place=None,ring_data=None):\n",
        "    # convert the ring data to the right coordinate system\n",
        "    ring = convert_ring_to_epsg4326(ring_data)\n",
        "    # create a epsg4326 compliant object - which is what the WGS84 ellipsoid is\n",
        "    geodcalc = Geod(ellps='WGS84')\n",
        "    closest_point = list()\n",
        "    # run through each point in the converted ring data\n",
        "    for point in ring:\n",
        "        # calculate the distance\n",
        "        d = geodcalc.inv(place[1],place[0],point[1],point[0])\n",
        "        # convert the distance to miles\n",
        "        distance_in_miles = d[2]*0.00062137\n",
        "        # if it's closer to the city than the point we have, save it\n",
        "        if not closest_point:\n",
        "            closest_point.append(distance_in_miles)\n",
        "            closest_point.append(point)\n",
        "        elif closest_point and closest_point[0]>distance_in_miles:\n",
        "            closest_point = list()\n",
        "            closest_point.append(distance_in_miles)\n",
        "            closest_point.append(point)\n",
        "    return closest_point"
      ],
      "metadata": {
        "id": "nCbJ8VS3YPIg"
      },
      "execution_count": 20,
      "outputs": []
    },
    {
      "cell_type": "code",
      "source": [
        "def average_distance_from_place_to_fire_perimeter(place=None,ring_data=None):\n",
        "    # convert the ring data to the right coordinate system\n",
        "    ring = convert_ring_to_epsg4326(ring_data)\n",
        "    # create a epsg4326 compliant object - which is what the WGS84 ellipsoid is\n",
        "    geodcalc = Geod(ellps='WGS84')\n",
        "    # create a list to store our results\n",
        "    distances_in_meters = list()\n",
        "    # run through each point in the converted ring data\n",
        "    for point in ring:\n",
        "        # calculate the distance\n",
        "        d = geodcalc.inv(place[1],place[0],point[1],point[0])\n",
        "        distances_in_meters.append(d[2])\n",
        "    #print(\"Got the following list:\",distances_in_meters)\n",
        "    # convert meters to miles\n",
        "    distances_in_miles = [meters*0.00062137 for meters in distances_in_meters]\n",
        "    # the esri polygon shape (the ring) requires that the first and last coordinates be identical to 'close the region\n",
        "    # we remove one of them so that we don't bias our average by having two of the same point\n",
        "    distances_in_miles_no_dup = distances_in_miles[1:]\n",
        "    # now, average miles\n",
        "    average = sum(distances_in_miles_no_dup)/len(distances_in_miles_no_dup)\n",
        "    return average"
      ],
      "metadata": {
        "id": "EI1wWIe3Xo03"
      },
      "execution_count": 19,
      "outputs": []
    },
    {
      "cell_type": "code",
      "source": [
        "place = CITY_LOCATIONS['Williston']\n",
        "filtered_fires = []\n",
        "\n",
        "for wf_feature in tqdm(feature_list):\n",
        "    try:\n",
        "        wf_year = wf_feature['attributes']['Fire_Year']\n",
        "        wf_name = wf_feature['attributes']['Listed_Fire_Names'].split(',')[0]\n",
        "        wf_size = wf_feature['attributes']['GIS_Acres']\n",
        "        wf_type = wf_feature['attributes']['Assigned_Fire_Type']\n",
        "        ring_data = wf_feature['geometry']['rings'][0]\n",
        "    except:\n",
        "        print(\"Exception occurred, ring param was missing\")\n",
        "        continue\n",
        "\n",
        "    if 1963 <= wf_year <= 2023:\n",
        "        distance = average_distance_from_place_to_fire_perimeter(place['latlon'], ring_data)\n",
        "        if distance < 1250:\n",
        "            ring = convert_ring_to_epsg4326(ring_data)\n",
        "            wf_feature['attributes']['distance'] = distance\n",
        "            wf_feature['attributes']['smoke_estimate'] = wf_size / distance\n",
        "            filtered_fires.append(wf_feature['attributes'])"
      ],
      "metadata": {
        "colab": {
          "base_uri": "https://localhost:8080/"
        },
        "id": "KvO18FktXtuN",
        "outputId": "1d8db8a8-4f9c-4061-d3be-94604fbf6c6c"
      },
      "execution_count": 25,
      "outputs": [
        {
          "output_type": "stream",
          "name": "stderr",
          "text": [
            " 81%|████████  | 109606/135061 [3:52:28<41:26, 10.24it/s]"
          ]
        },
        {
          "output_type": "stream",
          "name": "stdout",
          "text": [
            "Exception occurred, ring param was missing\n"
          ]
        },
        {
          "output_type": "stream",
          "name": "stderr",
          "text": [
            " 82%|████████▏ | 110225/135061 [3:54:02<49:56,  8.29it/s]"
          ]
        },
        {
          "output_type": "stream",
          "name": "stdout",
          "text": [
            "Exception occurred, ring param was missing\n"
          ]
        },
        {
          "output_type": "stream",
          "name": "stderr",
          "text": [
            " 82%|████████▏ | 110640/135061 [3:55:05<34:39, 11.75it/s]"
          ]
        },
        {
          "output_type": "stream",
          "name": "stdout",
          "text": [
            "Exception occurred, ring param was missing\n"
          ]
        },
        {
          "output_type": "stream",
          "name": "stderr",
          "text": [
            " 83%|████████▎ | 111430/135061 [3:57:03<1:03:44,  6.18it/s]"
          ]
        },
        {
          "output_type": "stream",
          "name": "stdout",
          "text": [
            "Exception occurred, ring param was missing\n"
          ]
        },
        {
          "output_type": "stream",
          "name": "stderr",
          "text": [
            " 83%|████████▎ | 111778/135061 [3:57:57<35:31, 10.92it/s]"
          ]
        },
        {
          "output_type": "stream",
          "name": "stdout",
          "text": [
            "Exception occurred, ring param was missing\n"
          ]
        },
        {
          "output_type": "stream",
          "name": "stderr",
          "text": [
            " 83%|████████▎ | 111896/135061 [3:58:12<45:35,  8.47it/s]"
          ]
        },
        {
          "output_type": "stream",
          "name": "stdout",
          "text": [
            "Exception occurred, ring param was missing\n"
          ]
        },
        {
          "output_type": "stream",
          "name": "stderr",
          "text": [
            " 83%|████████▎ | 112411/135061 [3:59:24<43:40,  8.64it/s]"
          ]
        },
        {
          "output_type": "stream",
          "name": "stdout",
          "text": [
            "Exception occurred, ring param was missing\n"
          ]
        },
        {
          "output_type": "stream",
          "name": "stderr",
          "text": [
            " 83%|████████▎ | 112416/135061 [3:59:24<41:15,  9.15it/s]"
          ]
        },
        {
          "output_type": "stream",
          "name": "stdout",
          "text": [
            "Exception occurred, ring param was missing\n"
          ]
        },
        {
          "output_type": "stream",
          "name": "stderr",
          "text": [
            " 84%|████████▍ | 113413/135061 [4:01:58<46:09,  7.82it/s]  "
          ]
        },
        {
          "output_type": "stream",
          "name": "stdout",
          "text": [
            "Exception occurred, ring param was missing\n"
          ]
        },
        {
          "output_type": "stream",
          "name": "stderr",
          "text": [
            " 84%|████████▍ | 113666/135061 [4:02:36<37:46,  9.44it/s]"
          ]
        },
        {
          "output_type": "stream",
          "name": "stdout",
          "text": [
            "Exception occurred, ring param was missing\n"
          ]
        },
        {
          "output_type": "stream",
          "name": "stderr",
          "text": [
            " 84%|████████▍ | 113739/135061 [4:02:47<39:20,  9.03it/s]"
          ]
        },
        {
          "output_type": "stream",
          "name": "stdout",
          "text": [
            "Exception occurred, ring param was missing\n"
          ]
        },
        {
          "output_type": "stream",
          "name": "stderr",
          "text": [
            " 84%|████████▍ | 113767/135061 [4:02:51<39:02,  9.09it/s]"
          ]
        },
        {
          "output_type": "stream",
          "name": "stdout",
          "text": [
            "Exception occurred, ring param was missing\n"
          ]
        },
        {
          "output_type": "stream",
          "name": "stderr",
          "text": [
            " 84%|████████▍ | 113806/135061 [4:02:58<39:45,  8.91it/s]"
          ]
        },
        {
          "output_type": "stream",
          "name": "stdout",
          "text": [
            "Exception occurred, ring param was missing\n"
          ]
        },
        {
          "output_type": "stream",
          "name": "stderr",
          "text": [
            " 85%|████████▍ | 114310/135061 [4:04:16<41:37,  8.31it/s]"
          ]
        },
        {
          "output_type": "stream",
          "name": "stdout",
          "text": [
            "Exception occurred, ring param was missing\n"
          ]
        },
        {
          "output_type": "stream",
          "name": "stderr",
          "text": [
            " 85%|████████▍ | 114323/135061 [4:04:17<35:42,  9.68it/s]"
          ]
        },
        {
          "output_type": "stream",
          "name": "stdout",
          "text": [
            "Exception occurred, ring param was missing\n"
          ]
        },
        {
          "output_type": "stream",
          "name": "stderr",
          "text": [
            " 86%|████████▌ | 115630/135061 [4:07:31<29:50, 10.85it/s]"
          ]
        },
        {
          "output_type": "stream",
          "name": "stdout",
          "text": [
            "Exception occurred, ring param was missing\n"
          ]
        },
        {
          "output_type": "stream",
          "name": "stderr",
          "text": [
            " 86%|████████▌ | 115973/135061 [4:08:15<54:04,  5.88it/s]"
          ]
        },
        {
          "output_type": "stream",
          "name": "stdout",
          "text": [
            "Exception occurred, ring param was missing\n"
          ]
        },
        {
          "output_type": "stream",
          "name": "stderr",
          "text": [
            " 86%|████████▌ | 116236/135061 [4:08:52<35:49,  8.76it/s]"
          ]
        },
        {
          "output_type": "stream",
          "name": "stdout",
          "text": [
            "Exception occurred, ring param was missing\n"
          ]
        },
        {
          "output_type": "stream",
          "name": "stderr",
          "text": [
            " 87%|████████▋ | 117087/135061 [4:11:00<35:35,  8.41it/s]"
          ]
        },
        {
          "output_type": "stream",
          "name": "stdout",
          "text": [
            "Exception occurred, ring param was missing\n"
          ]
        },
        {
          "output_type": "stream",
          "name": "stderr",
          "text": [
            " 89%|████████▊ | 119583/135061 [4:17:14<29:16,  8.81it/s]"
          ]
        },
        {
          "output_type": "stream",
          "name": "stdout",
          "text": [
            "Exception occurred, ring param was missing\n"
          ]
        },
        {
          "output_type": "stream",
          "name": "stderr",
          "text": [
            " 89%|████████▊ | 119618/135061 [4:17:18<28:15,  9.11it/s]"
          ]
        },
        {
          "output_type": "stream",
          "name": "stdout",
          "text": [
            "Exception occurred, ring param was missing\n"
          ]
        },
        {
          "output_type": "stream",
          "name": "stderr",
          "text": [
            " 89%|████████▊ | 119752/135061 [4:17:37<32:40,  7.81it/s]"
          ]
        },
        {
          "output_type": "stream",
          "name": "stdout",
          "text": [
            "Exception occurred, ring param was missing\n"
          ]
        },
        {
          "output_type": "stream",
          "name": "stderr",
          "text": [
            " 89%|████████▉ | 119983/135061 [4:18:11<29:35,  8.49it/s]"
          ]
        },
        {
          "output_type": "stream",
          "name": "stdout",
          "text": [
            "Exception occurred, ring param was missing\n"
          ]
        },
        {
          "output_type": "stream",
          "name": "stderr",
          "text": [
            " 89%|████████▉ | 120213/135061 [4:18:45<26:59,  9.17it/s]"
          ]
        },
        {
          "output_type": "stream",
          "name": "stdout",
          "text": [
            "Exception occurred, ring param was missing\n"
          ]
        },
        {
          "output_type": "stream",
          "name": "stderr",
          "text": [
            " 89%|████████▉ | 120430/135061 [4:19:19<52:03,  4.68it/s]"
          ]
        },
        {
          "output_type": "stream",
          "name": "stdout",
          "text": [
            "Exception occurred, ring param was missing\n"
          ]
        },
        {
          "output_type": "stream",
          "name": "stderr",
          "text": [
            " 89%|████████▉ | 120679/135061 [4:19:53<25:32,  9.39it/s]"
          ]
        },
        {
          "output_type": "stream",
          "name": "stdout",
          "text": [
            "Exception occurred, ring param was missing\n"
          ]
        },
        {
          "output_type": "stream",
          "name": "stderr",
          "text": [
            " 89%|████████▉ | 120742/135061 [4:20:01<27:19,  8.73it/s]"
          ]
        },
        {
          "output_type": "stream",
          "name": "stdout",
          "text": [
            "Exception occurred, ring param was missing\n"
          ]
        },
        {
          "output_type": "stream",
          "name": "stderr",
          "text": [
            " 90%|████████▉ | 121011/135061 [4:20:38<22:04, 10.61it/s]"
          ]
        },
        {
          "output_type": "stream",
          "name": "stdout",
          "text": [
            "Exception occurred, ring param was missing\n"
          ]
        },
        {
          "output_type": "stream",
          "name": "stderr",
          "text": [
            " 91%|█████████ | 122265/135061 [4:23:47<20:54, 10.20it/s]"
          ]
        },
        {
          "output_type": "stream",
          "name": "stdout",
          "text": [
            "Exception occurred, ring param was missing\n"
          ]
        },
        {
          "output_type": "stream",
          "name": "stderr",
          "text": [
            " 91%|█████████ | 122530/135061 [4:24:25<36:25,  5.73it/s]"
          ]
        },
        {
          "output_type": "stream",
          "name": "stdout",
          "text": [
            "Exception occurred, ring param was missing\n"
          ]
        },
        {
          "output_type": "stream",
          "name": "stderr",
          "text": [
            " 92%|█████████▏| 123760/135061 [4:27:31<34:12,  5.51it/s]"
          ]
        },
        {
          "output_type": "stream",
          "name": "stdout",
          "text": [
            "Exception occurred, ring param was missing\n"
          ]
        },
        {
          "output_type": "stream",
          "name": "stderr",
          "text": [
            " 92%|█████████▏| 124536/135061 [4:29:23<17:02, 10.29it/s]"
          ]
        },
        {
          "output_type": "stream",
          "name": "stdout",
          "text": [
            "Exception occurred, ring param was missing\n"
          ]
        },
        {
          "output_type": "stream",
          "name": "stderr",
          "text": [
            " 93%|█████████▎| 125045/135061 [4:30:40<27:37,  6.04it/s]"
          ]
        },
        {
          "output_type": "stream",
          "name": "stdout",
          "text": [
            "Exception occurred, ring param was missing\n"
          ]
        },
        {
          "output_type": "stream",
          "name": "stderr",
          "text": [
            " 93%|█████████▎| 125746/135061 [4:32:17<18:47,  8.26it/s]"
          ]
        },
        {
          "output_type": "stream",
          "name": "stdout",
          "text": [
            "Exception occurred, ring param was missing\n"
          ]
        },
        {
          "output_type": "stream",
          "name": "stderr",
          "text": [
            " 94%|█████████▍| 127493/135061 [4:36:27<16:10,  7.80it/s]"
          ]
        },
        {
          "output_type": "stream",
          "name": "stdout",
          "text": [
            "Exception occurred, ring param was missing\n"
          ]
        },
        {
          "output_type": "stream",
          "name": "stderr",
          "text": [
            "100%|██████████| 135061/135061 [4:57:53<00:00,  7.56it/s]\n"
          ]
        }
      ]
    },
    {
      "cell_type": "code",
      "source": [
        "smoke_est = open('/content/drive/MyDrive/smoke_est.json', \"w\")\n",
        "json.dump(filtered_fires, smoke_est, indent = 4)\n",
        "smoke_est.close()"
      ],
      "metadata": {
        "id": "6XB0mHM0cIz5"
      },
      "execution_count": 26,
      "outputs": []
    },
    {
      "cell_type": "code",
      "source": [
        "len(filtered_fires)"
      ],
      "metadata": {
        "colab": {
          "base_uri": "https://localhost:8080/"
        },
        "id": "mLj2SSYInlzZ",
        "outputId": "9426c953-c190-4c9e-9301-fe12fb05abbd"
      },
      "execution_count": 27,
      "outputs": [
        {
          "output_type": "execute_result",
          "data": {
            "text/plain": [
              "90449"
            ]
          },
          "metadata": {},
          "execution_count": 27
        }
      ]
    },
    {
      "cell_type": "code",
      "source": [],
      "metadata": {
        "id": "TrOnE6kzny0l"
      },
      "execution_count": null,
      "outputs": []
    }
  ]
}